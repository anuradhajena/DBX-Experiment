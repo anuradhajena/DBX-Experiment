{
 "cells": [
  {
   "cell_type": "code",
   "execution_count": 0,
   "metadata": {
    "application/vnd.databricks.v1+cell": {
     "cellMetadata": {
      "byteLimit": 2048000,
      "implicitDf": true,
      "rowLimit": 10000
     },
     "inputWidgets": {},
     "nuid": "e3d6c5b8-a0f3-4c3d-9321-a457fa90716f",
     "showTitle": false,
     "tableResultSettingsMap": {},
     "title": ""
    }
   },
   "outputs": [],
   "source": [
    "%sql\n",
    "create or replace view cgi_dev.naval_gold.vw_sales_details as \n",
    "(SELECT \n",
    "    o.order_id,\n",
    "    o.order_date,\n",
    "    o.customer_id,\n",
    "    c.customer_name,\n",
    "    c.customer_email,\n",
    "    c.customer_city,\n",
    "    o.product_id,\n",
    "    p.product_name,\n",
    "    p.product_category,\n",
    "    p.product_price,\n",
    "    o.quantity,\n",
    "    o.discount_amount,\n",
    "    o.total_amount,\n",
    "    cgi_dev.anuradha.categorize_order(total_amount) as order_category\n",
    "FROM cgi_dev.anuradha_silver.sales o\n",
    "JOIN cgi_dev.anuradha_silver.products p\n",
    "  ON o.product_id = p.product_id\n",
    "JOIN (\n",
    "      SELECT DISTINCT customer_id, customer_name, customer_email, customer_city \n",
    "      FROM cgi_dev.anuradha_silver.customers\n",
    "     ) c\n",
    "  ON o.customer_id = c.customer_id)"
   ]
  },
  {
   "cell_type": "code",
   "execution_count": 0,
   "metadata": {
    "application/vnd.databricks.v1+cell": {
     "cellMetadata": {
      "byteLimit": 2048000,
      "implicitDf": true,
      "rowLimit": 10000
     },
     "inputWidgets": {},
     "nuid": "c2b6e32b-0369-4a7b-b507-024e2ec58b13",
     "showTitle": true,
     "tableResultSettingsMap": {},
     "title": "What is the total revenue by product category?"
    }
   },
   "outputs": [],
   "source": [
    "%sql\n",
    "create or replace view cgi_dev.anuradha_gold.product_category as\n",
    "(SELECT \n",
    "    product_category, \n",
    "    round(SUM(total_amount)) AS total_revenue\n",
    "FROM cgi_dev.anuradha_gold.vw_sales_details\n",
    "GROUP BY product_category\n",
    "ORDER BY total_revenue DESC);\n"
   ]
  },
  {
   "cell_type": "code",
   "execution_count": 0,
   "metadata": {
    "application/vnd.databricks.v1+cell": {
     "cellMetadata": {},
     "inputWidgets": {},
     "nuid": "34f1b324-577e-4e3e-9eec-572f934f9992",
     "showTitle": true,
     "tableResultSettingsMap": {},
     "title": "Who are the top 3 customers by total revenue?"
    }
   },
   "outputs": [],
   "source": [
    "%sql\n",
    "create or replace view cgi_dev.anuradha_gold.customer_revenue as\n",
    "SELECT \n",
    "    customer_id, \n",
    "    customer_name, \n",
    "    round(SUM(total_amount)) AS total_revenue\n",
    "FROM cgi_dev.anuradha_gold.vw_sales_details\n",
    "GROUP BY customer_id, customer_name\n",
    "ORDER BY total_revenue DESC\n",
    "LIMIT 3;"
   ]
  },
  {
   "cell_type": "code",
   "execution_count": 0,
   "metadata": {
    "application/vnd.databricks.v1+cell": {
     "cellMetadata": {},
     "inputWidgets": {},
     "nuid": "d1b19a95-9231-453c-beb5-62c1833ce880",
     "showTitle": true,
     "tableResultSettingsMap": {},
     "title": "category count"
    }
   },
   "outputs": [],
   "source": [
    "%sql\n",
    "create or replace view cgi_dev.anuradha_gold.order_category_count as\n",
    "(select order_category, count(*) as count_order_category\n",
    "from cgi_dev.anuradha_gold.vw_sales_details\n",
    "group by order_category)"
   ]
  },
  {
   "cell_type": "code",
   "execution_count": 0,
   "metadata": {
    "application/vnd.databricks.v1+cell": {
     "cellMetadata": {},
     "inputWidgets": {},
     "nuid": "b508d549-e113-4093-8b5c-85afd63542e9",
     "showTitle": false,
     "tableResultSettingsMap": {},
     "title": ""
    }
   },
   "outputs": [],
   "source": [
    "%sql\n",
    "select * from cgi_dev.anuradha_gold.order_category_count"
   ]
  }
 ],
 "metadata": {
  "application/vnd.databricks.v1+notebook": {
   "computePreferences": null,
   "dashboards": [],
   "environmentMetadata": {
    "base_environment": "",
    "environment_version": "2"
   },
   "language": "python",
   "notebookMetadata": {
    "mostRecentlyExecutedCommandWithImplicitDF": {
     "commandId": 2775447339680768,
     "dataframes": [
      "_sqldf"
     ]
    },
    "pythonIndentUnit": 4
   },
   "notebookName": "Gold",
   "widgets": {}
  },
  "language_info": {
   "name": "python"
  }
 },
 "nbformat": 4,
 "nbformat_minor": 0
}
