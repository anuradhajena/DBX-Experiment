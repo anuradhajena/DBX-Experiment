{
 "cells": [
  {
   "cell_type": "code",
   "execution_count": 0,
   "metadata": {
    "application/vnd.databricks.v1+cell": {
     "cellMetadata": {
      "byteLimit": 2048000,
      "rowLimit": 10000
     },
     "inputWidgets": {},
     "nuid": "af4e4202-8ce8-47e5-8652-8b0abb2057c0",
     "showTitle": false,
     "tableResultSettingsMap": {},
     "title": ""
    }
   },
   "outputs": [],
   "source": [
    "df=spark.read.csv(\"/Volumes/cgi_dev/anuradha/anu_raw/housing.csv\",header=True)"
   ]
  },
  {
   "cell_type": "code",
   "execution_count": 0,
   "metadata": {
    "application/vnd.databricks.v1+cell": {
     "cellMetadata": {
      "byteLimit": 2048000,
      "rowLimit": 10000
     },
     "inputWidgets": {},
     "nuid": "a8917695-4782-4916-ba3b-11eb13789cc2",
     "showTitle": false,
     "tableResultSettingsMap": {},
     "title": ""
    }
   },
   "outputs": [],
   "source": [
    "df=spark.read.csv(\"/Volumes/cgi_dev/anuradha/anu_raw/housing.csv\",header=True,inferSchema=True)"
   ]
  },
  {
   "cell_type": "code",
   "execution_count": 0,
   "metadata": {
    "application/vnd.databricks.v1+cell": {
     "cellMetadata": {},
     "inputWidgets": {},
     "nuid": "c4052478-094f-4ea1-8e4b-dc29b75c6b7a",
     "showTitle": false,
     "tableResultSettingsMap": {},
     "title": ""
    }
   },
   "outputs": [],
   "source": [
    "from pyspark.sql.types import *"
   ]
  },
  {
   "cell_type": "code",
   "execution_count": 0,
   "metadata": {
    "application/vnd.databricks.v1+cell": {
     "cellMetadata": {},
     "inputWidgets": {},
     "nuid": "5718c447-7589-4003-a0e9-4e3001640db9",
     "showTitle": false,
     "tableResultSettingsMap": {},
     "title": ""
    }
   },
   "outputs": [],
   "source": [
    "users_schema=StructType([StructField(\"longitude\",DoubleType(),True),\n",
    "                         StructField(\"latitude\",DoubleType(),True),\n",
    "                         StructField(\"housing_median_age\",DoubleType(),True),\n",
    "                         StructField(\"total_rooms\",DoubleType(),True),\n",
    "                         StructField(\"total_bedrooms\",DoubleType(),True),\n",
    "                         StructField(\"population\",DoubleType(),True),\n",
    "                         StructField(\"households\",DoubleType(),True),\n",
    "                         StructField(\"median_income\",DoubleType(),True),\n",
    "                         StructField(\"median_house_value\",DoubleType(),True),\n",
    "                         StructField(\"ocean_proximity\",StringType(),True)])"
   ]
  },
  {
   "cell_type": "code",
   "execution_count": 0,
   "metadata": {
    "application/vnd.databricks.v1+cell": {
     "cellMetadata": {
      "byteLimit": 2048000,
      "rowLimit": 10000
     },
     "inputWidgets": {},
     "nuid": "3fc8a1da-dd6c-4e26-9224-b7d4f1db040c",
     "showTitle": false,
     "tableResultSettingsMap": {},
     "title": ""
    }
   },
   "outputs": [],
   "source": [
    "df = spark.read.csv(\n",
    "    \"/Volumes/cgi_dev/anuradha/anu_raw/housing.csv\",\n",
    "    header=True,\n",
    "    schema=users_schema\n",
    ")"
   ]
  },
  {
   "cell_type": "code",
   "execution_count": 0,
   "metadata": {
    "application/vnd.databricks.v1+cell": {
     "cellMetadata": {},
     "inputWidgets": {},
     "nuid": "88ae37ef-4555-40de-8f3b-b253e95e5a10",
     "showTitle": false,
     "tableResultSettingsMap": {},
     "title": ""
    }
   },
   "outputs": [],
   "source": [
    "#users_schema= string, pyspark datatype "
   ]
  },
  {
   "cell_type": "code",
   "execution_count": 0,
   "metadata": {
    "application/vnd.databricks.v1+cell": {
     "cellMetadata": {},
     "inputWidgets": {},
     "nuid": "da20f3c4-7cfd-4ee5-a564-cfc3f9da3ace",
     "showTitle": false,
     "tableResultSettingsMap": {},
     "title": ""
    }
   },
   "outputs": [],
   "source": [
    "#users_schema=\"longitude double, latitude double, housing_median_age double, total_rooms double, total_bedrooms double, population double, households double, median_income double, median_house_value double, ocean_proximity string\""
   ]
  },
  {
   "cell_type": "code",
   "execution_count": 0,
   "metadata": {
    "application/vnd.databricks.v1+cell": {
     "cellMetadata": {},
     "inputWidgets": {},
     "nuid": "ee305155-89a5-4a7d-b9ed-bd0002bcf41a",
     "showTitle": false,
     "tableResultSettingsMap": {},
     "title": ""
    }
   },
   "outputs": [],
   "source": [
    "#id:1, name: \"Alice\", age: 15, mobile:123\n",
    "\n",
    "#id:1, name: \"Alice\", age: 15, mobile:[123,567]\n",
    "\n",
    "#id:1, name: \"Alice\", age: 15, mobile:{home:123,office:567}"
   ]
  },
  {
   "cell_type": "code",
   "execution_count": 0,
   "metadata": {
    "application/vnd.databricks.v1+cell": {
     "cellMetadata": {},
     "inputWidgets": {},
     "nuid": "444d9c48-c362-4ac2-af84-9683137bf9c7",
     "showTitle": false,
     "tableResultSettingsMap": {},
     "title": ""
    }
   },
   "outputs": [],
   "source": [
    "df.display()"
   ]
  },
  {
   "cell_type": "code",
   "execution_count": 0,
   "metadata": {
    "application/vnd.databricks.v1+cell": {
     "cellMetadata": {},
     "inputWidgets": {},
     "nuid": "c595e108-91ad-460d-9c5b-44391ea3debf",
     "showTitle": false,
     "tableResultSettingsMap": {},
     "title": ""
    }
   },
   "outputs": [],
   "source": [
    "Transformation and Action\n",
    "\n",
    "Transformation\n",
    "1. Narrow\n",
    ".filter\n",
    "\n",
    "2.Wide (Shuffle)\n",
    ".groupby\n",
    "\n",
    "\n",
    "Action\n",
    ".show\n",
    ".display\n",
    ".write\n",
    ".count"
   ]
  }
 ],
 "metadata": {
  "application/vnd.databricks.v1+notebook": {
   "computePreferences": null,
   "dashboards": [],
   "environmentMetadata": {
    "base_environment": "",
    "environment_version": "2"
   },
   "inputWidgetPreferences": null,
   "language": "python",
   "notebookMetadata": {
    "pythonIndentUnit": 4
   },
   "notebookName": "Spark",
   "widgets": {}
  },
  "language_info": {
   "name": "python"
  }
 },
 "nbformat": 4,
 "nbformat_minor": 0
}
