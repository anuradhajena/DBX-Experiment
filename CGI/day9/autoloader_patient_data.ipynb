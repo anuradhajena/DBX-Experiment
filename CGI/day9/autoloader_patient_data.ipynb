{
 "cells": [
  {
   "cell_type": "code",
   "execution_count": 0,
   "metadata": {
    "application/vnd.databricks.v1+cell": {
     "cellMetadata": {
      "byteLimit": 2048000,
      "rowLimit": 10000
     },
     "inputWidgets": {},
     "nuid": "557502d3-b2ff-43ec-ac88-19814c386090",
     "showTitle": false,
     "tableResultSettingsMap": {},
     "title": ""
    }
   },
   "outputs": [],
   "source": [
    "input=\"s3://datamaster/stream_in/json/\"\n",
    "table_name=\"cgi_dev.naval.autoloader_patient_data\"\n",
    "schemalocation=\"s3://datamaster/metadata/naval/patients_data/schema\"\n",
    "checkpoint=\"s3://datamaster/metadata/naval/patients_data/checkpoint\""
   ]
  },
  {
   "cell_type": "code",
   "execution_count": 0,
   "metadata": {
    "application/vnd.databricks.v1+cell": {
     "cellMetadata": {
      "byteLimit": 2048000,
      "rowLimit": 10000
     },
     "inputWidgets": {},
     "nuid": "345ecbfd-6fc1-4bd9-9a9b-d770aaa264df",
     "showTitle": false,
     "tableResultSettingsMap": {},
     "title": ""
    }
   },
   "outputs": [],
   "source": [
    "(\n",
    "   spark\n",
    " .readStream\n",
    " .format(\"cloudFiles\")\n",
    " .option(\"cloudFiles.format\",\"json\")\n",
    " .option(\"cloudFiles.inferColumnTypes\",\"True\")\n",
    " .option(\"cloudFiles.schemaEvolutionMode\",\"addNewColumns\")\n",
    " .option(\"cloudFiles.schemaLocation\",schemalocation)\n",
    " .load(input)\n",
    "    .writeStream\n",
    " .option(\"checkpointLocation\",checkpoint)\n",
    " #.trigger(once=True)\n",
    " .option(\"mergeSchema\",\"True\")\n",
    " .table(table_name)\n",
    " )"
   ]
  }
 ],
 "metadata": {
  "application/vnd.databricks.v1+notebook": {
   "computePreferences": null,
   "dashboards": [],
   "environmentMetadata": {
    "base_environment": "",
    "environment_version": "2"
   },
   "inputWidgetPreferences": null,
   "language": "python",
   "notebookMetadata": {
    "pythonIndentUnit": 4
   },
   "notebookName": "autoloader_patient_data",
   "widgets": {}
  },
  "language_info": {
   "name": "python"
  }
 },
 "nbformat": 4,
 "nbformat_minor": 0
}
