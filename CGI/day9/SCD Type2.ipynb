{
 "cells": [
  {
   "cell_type": "code",
   "execution_count": 0,
   "metadata": {
    "application/vnd.databricks.v1+cell": {
     "cellMetadata": {
      "byteLimit": 2048000,
      "rowLimit": 10000
     },
     "inputWidgets": {},
     "nuid": "9eb8276e-e746-48e9-903a-79ea5058b7f7",
     "showTitle": false,
     "tableResultSettingsMap": {},
     "title": ""
    }
   },
   "outputs": [],
   "source": [
    "from pyspark.sql.functions import *"
   ]
  },
  {
   "cell_type": "code",
   "execution_count": 0,
   "metadata": {
    "application/vnd.databricks.v1+cell": {
     "cellMetadata": {
      "byteLimit": 2048000,
      "rowLimit": 10000
     },
     "inputWidgets": {},
     "nuid": "b55e9675-cfe6-472b-9257-9a511f1add9d",
     "showTitle": false,
     "tableResultSettingsMap": {},
     "title": ""
    }
   },
   "outputs": [],
   "source": [
    "source_data = [\n",
    " (1, \"Alice\", \"HR\", 5000), # No Change\n",
    " (2, \"Bob\", \"Finance\", 7000), # Updated Salary\n",
    " (3, \"Charlie\", \"IT\", 9000) # New Record\n",
    "]\n",
    "source_df = spark.createDataFrame(source_data, [\"id\", \"name\", \"department\", \"salary\"])"
   ]
  },
  {
   "cell_type": "code",
   "execution_count": 0,
   "metadata": {
    "application/vnd.databricks.v1+cell": {
     "cellMetadata": {
      "byteLimit": 2048000,
      "rowLimit": 10000
     },
     "inputWidgets": {},
     "nuid": "bae179ff-2fb1-48d9-ac94-7e628086956a",
     "showTitle": false,
     "tableResultSettingsMap": {},
     "title": ""
    }
   },
   "outputs": [],
   "source": [
    "dim_data = [\n",
    " (1, \"Alice\", \"HR\", 5000, \"2024-01-01\", \"9999-12-31\", \"Y\"),\n",
    " (2, \"Bob\", \"Finance\", 6500, \"2024-02-01\", \"9999-12-31\", \"Y\")\n",
    "]\n",
    "dim_df = spark.createDataFrame(dim_data, [\"id\", \"name\", \"department\", \"salary\", \"start_date\", \"end_date\", \"current_flag\"])"
   ]
  },
  {
   "cell_type": "code",
   "execution_count": 0,
   "metadata": {
    "application/vnd.databricks.v1+cell": {
     "cellMetadata": {
      "byteLimit": 2048000,
      "rowLimit": 10000
     },
     "inputWidgets": {},
     "nuid": "e0be339f-eb9a-468a-88e4-7a6189ab6fe6",
     "showTitle": false,
     "tableResultSettingsMap": {},
     "title": ""
    }
   },
   "outputs": [],
   "source": [
    "join_df = source_df.alias(\"src\").join(dim_df.alias(\"dim\"), \"id\", \"left\")"
   ]
  },
  {
   "cell_type": "code",
   "execution_count": 0,
   "metadata": {
    "application/vnd.databricks.v1+cell": {
     "cellMetadata": {},
     "inputWidgets": {},
     "nuid": "8505ffa8-c5b6-43d9-8dd4-d6a50c7dec70",
     "showTitle": false,
     "tableResultSettingsMap": {},
     "title": ""
    }
   },
   "outputs": [],
   "source": [
    "updates_df = join_df.filter(\n",
    " (col(\"dim.id\").isNotNull()) & \n",
    " ((col(\"src.name\") != col(\"dim.name\")) | \n",
    " (col(\"src.department\") != col(\"dim.department\")) | \n",
    " (col(\"src.salary\") != col(\"dim.salary\")))\n",
    ").select(\n",
    " col(\"src.id\"), col(\"src.name\"), col(\"src.department\"), col(\"src.salary\"),\n",
    " current_date().alias(\"start_date\"),\n",
    " lit(\"9999-12-31\").alias(\"end_date\"),\n",
    " lit(\"Y\").alias(\"current_flag\")\n",
    ")"
   ]
  },
  {
   "cell_type": "code",
   "execution_count": 0,
   "metadata": {
    "application/vnd.databricks.v1+cell": {
     "cellMetadata": {},
     "inputWidgets": {},
     "nuid": "76a912b9-5857-4e9e-9504-d34c12e0cb09",
     "showTitle": false,
     "tableResultSettingsMap": {},
     "title": ""
    }
   },
   "outputs": [],
   "source": [
    "expired_df = updates_df.select(\"id\").join(dim_df, \"id\") \\\n",
    " .withColumn(\"end_date\", current_date()) \\\n",
    " .withColumn(\"current_flag\", lit(\"N\"))"
   ]
  },
  {
   "cell_type": "code",
   "execution_count": 0,
   "metadata": {
    "application/vnd.databricks.v1+cell": {
     "cellMetadata": {},
     "inputWidgets": {},
     "nuid": "c81dedf7-bc6b-461a-8429-d566c38abe1e",
     "showTitle": false,
     "tableResultSettingsMap": {},
     "title": ""
    }
   },
   "outputs": [],
   "source": [
    "inserts_df = source_df.alias(\"src\").join(dim_df.alias(\"dim\"), \"id\", \"left_anti\") \\\n",
    " .withColumn(\"start_date\", current_date()) \\\n",
    " .withColumn(\"end_date\", lit(\"9999-12-31\")) \\\n",
    " .withColumn(\"current_flag\", lit(\"Y\"))"
   ]
  },
  {
   "cell_type": "code",
   "execution_count": 0,
   "metadata": {
    "application/vnd.databricks.v1+cell": {
     "cellMetadata": {},
     "inputWidgets": {},
     "nuid": "29329b3f-8200-4c28-aa3d-5372629fcc70",
     "showTitle": false,
     "tableResultSettingsMap": {},
     "title": ""
    }
   },
   "outputs": [],
   "source": [
    "final_dim_df = (\n",
    " dim_df.filter(col(\"current_flag\") == \"Y\").subtract(expired_df) # Keep Active Records\n",
    " .union(updates_df) # Add Updated Records\n",
    " .union(inserts_df) # Add New Inserts\n",
    ")"
   ]
  },
  {
   "cell_type": "code",
   "execution_count": 0,
   "metadata": {
    "application/vnd.databricks.v1+cell": {
     "cellMetadata": {},
     "inputWidgets": {},
     "nuid": "92aedb0f-1c7b-41db-b20d-5db84c744203",
     "showTitle": false,
     "tableResultSettingsMap": {},
     "title": ""
    }
   },
   "outputs": [],
   "source": [
    "final_dim_df.display()"
   ]
  },
  {
   "cell_type": "code",
   "execution_count": 0,
   "metadata": {
    "application/vnd.databricks.v1+cell": {
     "cellMetadata": {},
     "inputWidgets": {},
     "nuid": "dd601e07-b6f4-4716-83e3-911d4c53691f",
     "showTitle": false,
     "tableResultSettingsMap": {},
     "title": ""
    }
   },
   "outputs": [],
   "source": []
  }
 ],
 "metadata": {
  "application/vnd.databricks.v1+notebook": {
   "computePreferences": null,
   "dashboards": [],
   "environmentMetadata": {
    "base_environment": "",
    "environment_version": "2"
   },
   "inputWidgetPreferences": null,
   "language": "python",
   "notebookMetadata": {
    "pythonIndentUnit": 4
   },
   "notebookName": "SCD Type2",
   "widgets": {}
  },
  "language_info": {
   "name": "python"
  }
 },
 "nbformat": 4,
 "nbformat_minor": 0
}
