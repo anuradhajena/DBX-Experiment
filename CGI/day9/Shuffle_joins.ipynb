{
 "cells": [
  {
   "cell_type": "code",
   "execution_count": 0,
   "metadata": {
    "application/vnd.databricks.v1+cell": {
     "cellMetadata": {},
     "inputWidgets": {},
     "nuid": "87dc8afd-408a-447d-a46b-b8749b433292",
     "showTitle": false,
     "tableResultSettingsMap": {},
     "title": ""
    }
   },
   "outputs": [],
   "source": [
    "spark.conf.set('spark.databricks.io.cache.enabled',False)"
   ]
  },
  {
   "cell_type": "code",
   "execution_count": 0,
   "metadata": {
    "application/vnd.databricks.v1+cell": {
     "cellMetadata": {
      "byteLimit": 2048000,
      "rowLimit": 10000
     },
     "inputWidgets": {},
     "nuid": "10a7faf0-3c6a-401f-b7c7-9415e2c2a791",
     "showTitle": false,
     "tableResultSettingsMap": {},
     "title": ""
    }
   },
   "outputs": [],
   "source": [
    "from pyspark.sql.functions import *\n",
    "\n",
    "transactions_df = (spark\n",
    "                        .range(0, 1500000000, 1, 32)\n",
    "                        .select(\n",
    "                            'id',\n",
    "                            round(rand() * 10000, 2).alias('amount'),\n",
    "                            (col('id') % 10).alias('country_id'),\n",
    "                            (col('id') % 100).alias('store_id')\n",
    ")\n",
    ")\n"
   ]
  },
  {
   "cell_type": "code",
   "execution_count": 0,
   "metadata": {
    "application/vnd.databricks.v1+cell": {
     "cellMetadata": {
      "byteLimit": 2048000,
      "rowLimit": 10000
     },
     "inputWidgets": {},
     "nuid": "1781de0f-eccb-4873-8148-f6334dbc0c6d",
     "showTitle": false,
     "tableResultSettingsMap": {},
     "title": ""
    }
   },
   "outputs": [],
   "source": [
    "transactions_df.write.mode(\"overwrite\").saveAsTable(\"cgi_dev.anuradha.transactions\")"
   ]
  },
  {
   "cell_type": "code",
   "execution_count": 0,
   "metadata": {
    "application/vnd.databricks.v1+cell": {
     "cellMetadata": {
      "byteLimit": 2048000,
      "rowLimit": 10000
     },
     "inputWidgets": {},
     "nuid": "b3088bcf-887e-415f-bdfe-d483b0e49c35",
     "showTitle": false,
     "tableResultSettingsMap": {},
     "title": ""
    }
   },
   "outputs": [],
   "source": [
    "stores_df = (spark\n",
    "                        .range(0, 99)\n",
    "                        .select(\n",
    "                            'id',\n",
    "                            round(rand() * 100,0).alias('employees'),\n",
    "                            (col('id') % 10).alias('country_id'),\n",
    "                            expr('uuid()').alias('name')\n",
    ")\n",
    ")\n",
    "\n",
    "stores_df.write.mode(\"overwrite\").saveAsTable(\"cgi_dev.anuradha.stores\")"
   ]
  },
  {
   "cell_type": "code",
   "execution_count": 0,
   "metadata": {
    "application/vnd.databricks.v1+cell": {
     "cellMetadata": {
      "byteLimit": 2048000,
      "rowLimit": 10000
     },
     "inputWidgets": {},
     "nuid": "bf3485d7-33ee-4c31-9fbc-ddc9b0b79860",
     "showTitle": false,
     "tableResultSettingsMap": {},
     "title": ""
    }
   },
   "outputs": [],
   "source": [
    "countries =[(0, \"Italy\"),\n",
    "            (1, \"Canada\"),\n",
    "            (2, \"Mexico\"),\n",
    "            (3, \"China\"),\n",
    "            (4, \"Germany\"),\n",
    "            (5, \"UK\"),\n",
    "            (6, \"Japan\"),\n",
    "            (7, \"Korea\"),\n",
    "            (8, \"Australia\"),\n",
    "            (9, \"France\"),\n",
    "            (10, \"Spain\"),\n",
    "            (11, \"USA\")\n",
    "            ]\n",
    "\n",
    "columns = [\"id\", \"name\"]\n",
    "\n",
    "countries_df = spark.createDataFrame(data = countries, schema = columns)\n",
    "\n",
    "countries_df.write.mode(\"overwrite\").saveAsTable(\"cgi_dev.anuradha.countries\")"
   ]
  },
  {
   "cell_type": "code",
   "execution_count": 0,
   "metadata": {
    "application/vnd.databricks.v1+cell": {
     "cellMetadata": {
      "byteLimit": 2048000,
      "rowLimit": 10000
     },
     "inputWidgets": {},
     "nuid": "76e2b2ac-e1c6-4002-b8d2-52bb51bed60e",
     "showTitle": false,
     "tableResultSettingsMap": {},
     "title": ""
    }
   },
   "outputs": [],
   "source": [
    "spark.conf.set(\"spark.sql.autoBroadcastJoinThreshold\", -1)\n",
    "spark.conf.set(\"spark.databricks.adaptive.autoBroadcast.JoinThreshold\", -1)"
   ]
  },
  {
   "cell_type": "code",
   "execution_count": 0,
   "metadata": {
    "application/vnd.databricks.v1+cell": {
     "cellMetadata": {
      "byteLimit": 2048000,
      "implicitDf": true,
      "rowLimit": 10000
     },
     "inputWidgets": {},
     "nuid": "fbeb598a-6fd7-486a-a01b-43ed32adb928",
     "showTitle": false,
     "tableResultSettingsMap": {},
     "title": ""
    }
   },
   "outputs": [],
   "source": [
    "%sql\n",
    " SELECT\n",
    "        transactions.id,\n",
    "        amount,\n",
    "        countries.name as country_name,\n",
    "        employees,\n",
    "        stores.name as store_name\n",
    "    FROM\n",
    "        transactions\n",
    "    LEFT JOIN\n",
    "        stores\n",
    "        ON\n",
    "            transactions.store_id = stores.id\n",
    "        LEFT JOIN\n",
    "            countries\n",
    "            ON\n",
    "                transactions.country_id = countries.id"
   ]
  }
 ],
 "metadata": {
  "application/vnd.databricks.v1+notebook": {
   "computePreferences": null,
   "dashboards": [],
   "environmentMetadata": {
    "base_environment": "",
    "environment_version": "2"
   },
   "inputWidgetPreferences": null,
   "language": "python",
   "notebookMetadata": {
    "mostRecentlyExecutedCommandWithImplicitDF": {
     "commandId": 76290583790390,
     "dataframes": [
      "_sqldf"
     ]
    },
    "pythonIndentUnit": 4
   },
   "notebookName": "Shuffle_joins",
   "widgets": {}
  },
  "language_info": {
   "name": "python"
  }
 },
 "nbformat": 4,
 "nbformat_minor": 0
}
