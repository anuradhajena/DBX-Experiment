{
 "cells": [
  {
   "cell_type": "code",
   "execution_count": 0,
   "metadata": {
    "application/vnd.databricks.v1+cell": {
     "cellMetadata": {},
     "inputWidgets": {},
     "nuid": "6db449da-7682-4caa-85ff-c6e0c093e4f9",
     "showTitle": false,
     "tableResultSettingsMap": {},
     "title": ""
    }
   },
   "outputs": [],
   "source": [
    "Manged table : Delta \n",
    "(metadata(parquet+delta logs) is managed by databricks )\n",
    "\n",
    "create table emp (id int)\n",
    "\n",
    "\n",
    "spark.read.csv(\"path\").write.saveAsTable(\"tblname\")\n",
    "\n",
    "\n",
    "create table emp as select * from file.`path`\n",
    "\n",
    "\n",
    "DROP (table + metadata)"
   ]
  },
  {
   "cell_type": "code",
   "execution_count": 0,
   "metadata": {
    "application/vnd.databricks.v1+cell": {
     "cellMetadata": {},
     "inputWidgets": {},
     "nuid": "2730e61b-f9a6-458e-8d15-923debdcbb4d",
     "showTitle": false,
     "tableResultSettingsMap": {},
     "title": ""
    }
   },
   "outputs": [],
   "source": [
    "unManged/External table : delta,parqut, etc \n",
    "(metadata(parquet+delta logs) is managed by users )\n",
    "\n",
    "create table emp (id int) location 's3'\n",
    "\n",
    "\n",
    "spark.read.csv(\"path\")\n",
    ".write.option(\"path\",\"s3\").saveAsTable(\"tblname\")\n",
    "\n",
    "\n",
    "create table emp location 'S3' as select * from file.`path`\n",
    "\n",
    "DROP (table) and metadata remain untouched "
   ]
  },
  {
   "cell_type": "code",
   "execution_count": 0,
   "metadata": {
    "application/vnd.databricks.v1+cell": {
     "cellMetadata": {},
     "inputWidgets": {},
     "nuid": "97292441-e8de-4a19-835d-1e02561e84c4",
     "showTitle": false,
     "tableResultSettingsMap": {},
     "title": ""
    }
   },
   "outputs": [],
   "source": [
    "df=spark.read.csv(\"s3://datamaster/cgi/Crime_Data_from_2020_to_Present.csv\",header=True,inferSchema=True)"
   ]
  },
  {
   "cell_type": "code",
   "execution_count": 0,
   "metadata": {
    "application/vnd.databricks.v1+cell": {
     "cellMetadata": {},
     "inputWidgets": {},
     "nuid": "42b1cff6-d5bf-46fd-851f-ee870152bf49",
     "showTitle": false,
     "tableResultSettingsMap": {},
     "title": ""
    }
   },
   "outputs": [],
   "source": [
    "df.write.option(\"delta.columnMapping.mode\",\"name\").saveAsTable(\"cgi_dev.anuradha.crime_date\")"
   ]
  },
  {
   "cell_type": "code",
   "execution_count": 0,
   "metadata": {
    "application/vnd.databricks.v1+cell": {
     "cellMetadata": {},
     "inputWidgets": {},
     "nuid": "d0190c05-0aba-4a18-871a-2285baddf27b",
     "showTitle": false,
     "tableResultSettingsMap": {},
     "title": ""
    }
   },
   "outputs": [],
   "source": [
    "df.write.option(\"delta.columnMapping.mode\",\"name\").option(\"path\",\"s3://datamaster/output/crime_date\").saveAsTable(\"cgi_dev.anuradha.crime_date_ext\")"
   ]
  },
  {
   "cell_type": "code",
   "execution_count": 0,
   "metadata": {
    "application/vnd.databricks.v1+cell": {
     "cellMetadata": {},
     "inputWidgets": {},
     "nuid": "2b638bc1-e58b-404d-9591-fc18bd281002",
     "showTitle": false,
     "tableResultSettingsMap": {},
     "title": ""
    }
   },
   "outputs": [],
   "source": [
    "%sql\n",
    "drop table cgi_dev.anuradha.crime_date_ext"
   ]
  },
  {
   "cell_type": "code",
   "execution_count": 0,
   "metadata": {
    "application/vnd.databricks.v1+cell": {
     "cellMetadata": {},
     "inputWidgets": {},
     "nuid": "ab24e198-96d9-4785-88f1-1d9aba0d7c61",
     "showTitle": false,
     "tableResultSettingsMap": {},
     "title": ""
    }
   },
   "outputs": [],
   "source": [
    "%sql\n",
    "undrop table cgi_dev.anuradha.crime_date"
   ]
  },
  {
   "cell_type": "code",
   "execution_count": 0,
   "metadata": {
    "application/vnd.databricks.v1+cell": {
     "cellMetadata": {},
     "inputWidgets": {},
     "nuid": "0433d916-a7dd-4937-b518-5b7f3ed64191",
     "showTitle": false,
     "tableResultSettingsMap": {},
     "title": ""
    }
   },
   "outputs": [],
   "source": [
    "%sql\n",
    "select * from cgi_dev.anuradha.crime_date"
   ]
  },
  {
   "cell_type": "code",
   "execution_count": 0,
   "metadata": {
    "application/vnd.databricks.v1+cell": {
     "cellMetadata": {},
     "inputWidgets": {},
     "nuid": "baaa2da8-ac9d-4343-9397-4ea2c52262aa",
     "showTitle": false,
     "tableResultSettingsMap": {},
     "title": ""
    }
   },
   "outputs": [],
   "source": [
    "%sql\n",
    "select * from delta.`s3://databricks-vkzk67ov3pijqsfojmprga-cloud-storage-bucket/unity-catalog/1077234302529176/cgi_dev/__unitystorage/catalogs/ea7a933f-3330-4723-896f-8933b22a2791/tables/bdb088b7-3a8d-4510-a1d6-9fa82ff034b1/`"
   ]
  },
  {
   "cell_type": "code",
   "execution_count": 0,
   "metadata": {
    "application/vnd.databricks.v1+cell": {
     "cellMetadata": {},
     "inputWidgets": {},
     "nuid": "51333d15-56c0-485f-a802-8aac4edf5527",
     "showTitle": false,
     "tableResultSettingsMap": {},
     "title": ""
    }
   },
   "outputs": [],
   "source": [
    "%sql\n",
    "select * from delta.`s3://datamaster/output/crime_date`"
   ]
  },
  {
   "cell_type": "code",
   "execution_count": 0,
   "metadata": {
    "application/vnd.databricks.v1+cell": {
     "cellMetadata": {},
     "inputWidgets": {},
     "nuid": "277d6de1-5aa0-4df0-87f1-64a68cd3d09a",
     "showTitle": false,
     "tableResultSettingsMap": {},
     "title": ""
    }
   },
   "outputs": [],
   "source": []
  }
 ],
 "metadata": {
  "application/vnd.databricks.v1+notebook": {
   "computePreferences": null,
   "dashboards": [],
   "environmentMetadata": {
    "base_environment": "",
    "environment_version": "2"
   },
   "language": "python",
   "notebookMetadata": {
    "pythonIndentUnit": 4
   },
   "notebookName": "Managed vs External",
   "widgets": {}
  },
  "language_info": {
   "name": "python"
  }
 },
 "nbformat": 4,
 "nbformat_minor": 0
}
