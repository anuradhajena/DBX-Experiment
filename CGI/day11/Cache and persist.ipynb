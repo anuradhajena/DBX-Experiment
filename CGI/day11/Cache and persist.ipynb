{
 "cells": [
  {
   "cell_type": "markdown",
   "metadata": {
    "application/vnd.databricks.v1+cell": {
     "cellMetadata": {
      "byteLimit": 2048000,
      "rowLimit": 10000
     },
     "inputWidgets": {},
     "nuid": "3e0d0aad-2f71-4ec5-b902-d5814b99b04f",
     "showTitle": false,
     "tableResultSettingsMap": {},
     "title": ""
    }
   },
   "source": [
    "# Storage Levels in Apache Spark (As of Spark 3.4)\n",
    "\n",
    "## Overview\n",
    "\n",
    "Storage levels in Spark determine how RDDs or DataFrames are stored in memory and/or disk to optimize performance.\n",
    "### Storage Level Types\n",
    "Storage Level\tSpace Used\tCPU Time\tIn Memory\tOn Disk\tSerialized\n",
    "MEMORY_ONLY\tHigh\tLow\tYes\tNo\tNo\n",
    "MEMORY_ONLY_SER\tLow\tHigh\tYes\tNo\tYes\n",
    "MEMORY_AND_DISK\tHigh\tMedium\tSome\tSome\tSome\n",
    "MEMORY_AND_DISK_SER\tLow\tHigh\tSome\tSome\tYes\n",
    "DISK_ONLY\tLow\tHigh\tNo\tYes\tYes\n",
    "\n",
    "## Storage Level Details\n",
    "- DISK_ONLY: Stores data only on disk (slowest access), serialized format saves space.\n",
    "- DISK_ONLY_2 / DISK_ONLY_3: Disk storage with 2x / 3x replication.\n",
    "- MEMORY_AND_DISK: Uses memory first, spills to disk if needed.\n",
    "- MEMORY_AND_DISK_2: Same as above, but replicated 2x for resilience.\n",
    "- MEMORY_AND_DISK_DESER (default): Same as MEMORY_AND_DISK, but deserialized for fast access.\n",
    "- MEMORY_ONLY: CPU-efficient, but memory-intensive (fastest retrieval).\n",
    "- MEMORY_ONLY_2: Same as above, with 2x replication for fault tolerance.\n",
    "\n",
    "## Serialization vs Deserialization\n",
    "- Serialized (SER): Saves memory (compact data), but CPU-intensive for access.\n",
    "- Deserialized (DESER): Faster access (as JVM objects), but memory-intensive.\n",
    "\n",
    "## When to Use What?\n",
    "\n",
    "- Fastest access: MEMORY_ONLY\n",
    "- Memory saving: MEMORY_ONLY_SER\n",
    "- Balanced (spills to disk): MEMORY_AND_DISK\n",
    "- Disk-efficient (for large data): DISK_ONLY"
   ]
  },
  {
   "cell_type": "code",
   "execution_count": 0,
   "metadata": {
    "application/vnd.databricks.v1+cell": {
     "cellMetadata": {
      "byteLimit": 2048000,
      "rowLimit": 10000
     },
     "inputWidgets": {},
     "nuid": "a83d5e8c-4e6e-43e6-b661-49e6e902ee9c",
     "showTitle": false,
     "tableResultSettingsMap": {},
     "title": ""
    }
   },
   "outputs": [],
   "source": [
    "import pyspark.sql.functions as F\n",
    "from pyspark.sql.types import StructType, StructField, StringType, IntegerType, FloatType"
   ]
  },
  {
   "cell_type": "code",
   "execution_count": 0,
   "metadata": {
    "application/vnd.databricks.v1+cell": {
     "cellMetadata": {
      "byteLimit": 2048000,
      "rowLimit": 10000
     },
     "inputWidgets": {},
     "nuid": "abb1d69f-e5f8-429d-8a9e-318967330531",
     "showTitle": false,
     "tableResultSettingsMap": {},
     "title": ""
    }
   },
   "outputs": [],
   "source": [
    "customer_schema  = StructType(\n",
    "    [\n",
    "        StructField('customer_id',FloatType()),\n",
    "        StructField('customer_name',StringType()),\n",
    "        StructField('email',StringType()),\n",
    "        StructField('city',StringType())\n",
    "    ]\n",
    ")\n",
    "product_schema  = StructType(\n",
    "    [\n",
    "        StructField('product_id',FloatType()),\n",
    "        StructField('product_name',StringType()),\n",
    "        StructField('category',StringType()),\n",
    "        StructField('price',FloatType())\n",
    "     ]\n",
    ")\n",
    "sales_schema = StructType(\n",
    "    [\n",
    "        StructField('sale_id',IntegerType()),\n",
    "        StructField('product_id',IntegerType()),\n",
    "        StructField('customer_id',IntegerType()),\n",
    "        StructField('store_id',IntegerType()),\n",
    "        StructField('quantity',IntegerType()),\n",
    "        StructField('sale_date',StringType())\n",
    "    ]\n",
    ")\n",
    "inventory_schema = StructType(\n",
    "    [\n",
    "        StructField('store_id',FloatType()),\n",
    "        StructField('product_id',FloatType()),\n",
    "        StructField('stock_quantity',StringType())\n",
    "    ]\n",
    ")\n",
    "stores_schema = StructType(\n",
    "    [\n",
    "        StructField('store_id',FloatType()),\n",
    "        StructField('store_name',StringType()),\n",
    "        StructField('city',StringType())\n",
    "    ]\n",
    ")"
   ]
  },
  {
   "cell_type": "code",
   "execution_count": 0,
   "metadata": {
    "application/vnd.databricks.v1+cell": {
     "cellMetadata": {
      "byteLimit": 2048000,
      "rowLimit": 10000
     },
     "inputWidgets": {},
     "nuid": "8b2e6a16-d89d-472f-997c-4f05e9f95d32",
     "showTitle": false,
     "tableResultSettingsMap": {},
     "title": ""
    }
   },
   "outputs": [],
   "source": [
    "input_path = \"/Volumes/cgi_dev/naval/dataset/\"\n",
    "input_s3=\"s3://datamaster/dataset/\"\n",
    "df_customer = spark.read.csv(f\"{input_path}Customers.csv\",schema = customer_schema,header=True)\n",
    "df_inventory = spark.read.csv(f\"{input_path}Inventory.csv\",schema = inventory_schema,header=True)\n",
    "df_store = spark.read.csv(f\"{input_path}Stores.csv\",schema = stores_schema,header=True)\n",
    "df_product = spark.read.csv(f\"{input_path}Products.csv\",schema = product_schema,header=True)\n",
    "df_sales = spark.read.csv(f\"{input_s3}skewed_sales_data.csv\",schema = sales_schema,header=True)"
   ]
  },
  {
   "cell_type": "markdown",
   "metadata": {
    "application/vnd.databricks.v1+cell": {
     "cellMetadata": {
      "byteLimit": 2048000,
      "rowLimit": 10000
     },
     "inputWidgets": {},
     "nuid": "ade6cc4f-4301-4394-81e1-9b65e02956f6",
     "showTitle": false,
     "tableResultSettingsMap": {},
     "title": ""
    }
   },
   "source": [
    "# Use Case: Identify Top-Selling Products by City & Optimize Inventory\n",
    "Scenario: A retail company wants to analyze top-selling products in each city and compare it with current inventory levels to prevent stockouts. Since sales and inventory data are used multiple times in the workflow, caching will be used to optimize performance."
   ]
  },
  {
   "cell_type": "code",
   "execution_count": 0,
   "metadata": {
    "application/vnd.databricks.v1+cell": {
     "cellMetadata": {
      "byteLimit": 2048000,
      "rowLimit": 10000
     },
     "inputWidgets": {},
     "nuid": "af4a45b2-c3a4-42cf-b7d4-b54cd7f97a77",
     "showTitle": false,
     "tableResultSettingsMap": {},
     "title": ""
    }
   },
   "outputs": [],
   "source": [
    "from pyspark import StorageLevel"
   ]
  },
  {
   "cell_type": "code",
   "execution_count": 0,
   "metadata": {
    "application/vnd.databricks.v1+cell": {
     "cellMetadata": {
      "byteLimit": 2048000,
      "rowLimit": 10000
     },
     "inputWidgets": {},
     "nuid": "cf5028ff-7fbd-47e5-a0aa-dc0caff4ef94",
     "showTitle": false,
     "tableResultSettingsMap": {},
     "title": ""
    }
   },
   "outputs": [],
   "source": [
    "df_sales_enriched = df_sales \\\n",
    "    .join(df_product, \"product_id\", \"inner\") \\\n",
    "    .join(df_store, \"store_id\", \"inner\") \\\n",
    "    .join(df_customer, \"customer_id\", \"inner\") \\\n",
    "    .select(\"sale_id\", \"product_id\", \"product_name\", \"category\", \n",
    "            \"price\", \"customer_id\", \"customer_name\", df_customer.city, \n",
    "            \"store_id\", \"store_name\", \"quantity\", \"sale_date\")\n",
    "    \n",
    "#df_sales_enriched.cache()\n",
    "df_sales_enriched.persist(StorageLevel.DISK_ONLY)\n",
    "df_sales_enriched.count()"
   ]
  },
  {
   "cell_type": "code",
   "execution_count": 0,
   "metadata": {
    "application/vnd.databricks.v1+cell": {
     "cellMetadata": {
      "byteLimit": 2048000,
      "rowLimit": 10000
     },
     "inputWidgets": {},
     "nuid": "0c87d828-5b0a-4f72-aee8-d41edf62b5bb",
     "showTitle": false,
     "tableResultSettingsMap": {},
     "title": ""
    }
   },
   "outputs": [],
   "source": [
    "# 1sec\n",
    "df_sales_enriched.display()"
   ]
  },
  {
   "cell_type": "code",
   "execution_count": 0,
   "metadata": {
    "application/vnd.databricks.v1+cell": {
     "cellMetadata": {
      "byteLimit": 2048000,
      "rowLimit": 10000
     },
     "inputWidgets": {},
     "nuid": "5f1c94d7-20ca-4a9a-9227-16fa86ed5ab0",
     "showTitle": false,
     "tableResultSettingsMap": {},
     "title": ""
    }
   },
   "outputs": [],
   "source": [
    "df_sales_enriched.unpersist()"
   ]
  },
  {
   "cell_type": "code",
   "execution_count": 0,
   "metadata": {
    "application/vnd.databricks.v1+cell": {
     "cellMetadata": {
      "byteLimit": 2048000,
      "rowLimit": 10000
     },
     "inputWidgets": {},
     "nuid": "40260361-46eb-491e-9aa5-a94386795cfd",
     "showTitle": false,
     "tableResultSettingsMap": {},
     "title": ""
    }
   },
   "outputs": [],
   "source": [
    "spark.catalog.clearCache()"
   ]
  },
  {
   "cell_type": "code",
   "execution_count": 0,
   "metadata": {
    "application/vnd.databricks.v1+cell": {
     "cellMetadata": {
      "byteLimit": 2048000,
      "rowLimit": 10000
     },
     "inputWidgets": {},
     "nuid": "ee2b9ce4-66e5-447f-8be6-cd05d7ecd3db",
     "showTitle": false,
     "tableResultSettingsMap": {},
     "title": ""
    }
   },
   "outputs": [],
   "source": [
    "df_sales_enriched.display()"
   ]
  },
  {
   "cell_type": "code",
   "execution_count": 0,
   "metadata": {
    "application/vnd.databricks.v1+cell": {
     "cellMetadata": {
      "byteLimit": 2048000,
      "rowLimit": 10000
     },
     "inputWidgets": {},
     "nuid": "87370415-3537-4227-b305-892659e66212",
     "showTitle": false,
     "tableResultSettingsMap": {},
     "title": ""
    }
   },
   "outputs": [],
   "source": [
    "# 2 min\n",
    "df_sales_enriched.display()"
   ]
  },
  {
   "cell_type": "code",
   "execution_count": 0,
   "metadata": {
    "application/vnd.databricks.v1+cell": {
     "cellMetadata": {
      "byteLimit": 2048000,
      "rowLimit": 10000
     },
     "inputWidgets": {},
     "nuid": "fb14749d-12ba-4e15-aa61-fd50431d7839",
     "showTitle": false,
     "tableResultSettingsMap": {},
     "title": ""
    }
   },
   "outputs": [],
   "source": [
    "df_sales_enriched.explain(True)"
   ]
  },
  {
   "cell_type": "code",
   "execution_count": 0,
   "metadata": {
    "application/vnd.databricks.v1+cell": {
     "cellMetadata": {
      "byteLimit": 2048000,
      "rowLimit": 10000
     },
     "inputWidgets": {},
     "nuid": "661dece2-55eb-4be5-bdf8-3dd6a11b9901",
     "showTitle": false,
     "tableResultSettingsMap": {},
     "title": ""
    }
   },
   "outputs": [],
   "source": [
    "df_top_selling = df_sales_enriched \\\n",
    "    .groupBy(\"city\", \"product_id\", \"product_name\") \\\n",
    "    .agg(F.sum(\"quantity\").alias(\"total_quantity_sold\")) \\\n",
    "    .orderBy(\"city\", F.desc(\"total_quantity_sold\"))"
   ]
  },
  {
   "cell_type": "code",
   "execution_count": 0,
   "metadata": {
    "application/vnd.databricks.v1+cell": {
     "cellMetadata": {
      "byteLimit": 2048000,
      "rowLimit": 10000
     },
     "inputWidgets": {},
     "nuid": "bf302ea8-26d5-4ec6-ae05-f27e81d53fed",
     "showTitle": false,
     "tableResultSettingsMap": {},
     "title": ""
    }
   },
   "outputs": [],
   "source": [
    "df_top_selling.explain()"
   ]
  },
  {
   "cell_type": "code",
   "execution_count": 0,
   "metadata": {
    "application/vnd.databricks.v1+cell": {
     "cellMetadata": {
      "byteLimit": 2048000,
      "rowLimit": 10000
     },
     "inputWidgets": {},
     "nuid": "1e190ac8-450a-46a5-ae56-479c8f9a7014",
     "showTitle": false,
     "tableResultSettingsMap": {},
     "title": ""
    }
   },
   "outputs": [],
   "source": [
    "display(df_top_selling)"
   ]
  },
  {
   "cell_type": "code",
   "execution_count": 0,
   "metadata": {
    "application/vnd.databricks.v1+cell": {
     "cellMetadata": {
      "byteLimit": 2048000,
      "rowLimit": 10000
     },
     "inputWidgets": {},
     "nuid": "1096ce2c-9a2c-414e-b4b9-d20ce82ad52d",
     "showTitle": false,
     "tableResultSettingsMap": {},
     "title": ""
    }
   },
   "outputs": [],
   "source": [
    "display(df_top_selling)"
   ]
  },
  {
   "cell_type": "code",
   "execution_count": 0,
   "metadata": {
    "application/vnd.databricks.v1+cell": {
     "cellMetadata": {
      "byteLimit": 2048000,
      "rowLimit": 10000
     },
     "inputWidgets": {},
     "nuid": "f0e42052-6955-4188-a5ee-1775c3809dfb",
     "showTitle": false,
     "tableResultSettingsMap": {},
     "title": ""
    }
   },
   "outputs": [],
   "source": [
    "df_inventory_status = df_top_selling \\\n",
    "    .join(df_inventory, [\"product_id\"], \"left\") \\\n",
    "    .select(\"city\", \"product_name\", \"total_quantity_sold\", \"stock_quantity\")"
   ]
  },
  {
   "cell_type": "code",
   "execution_count": 0,
   "metadata": {
    "application/vnd.databricks.v1+cell": {
     "cellMetadata": {
      "byteLimit": 2048000,
      "rowLimit": 10000
     },
     "inputWidgets": {},
     "nuid": "385dad80-b499-41c1-88df-6e22739e3962",
     "showTitle": false,
     "tableResultSettingsMap": {},
     "title": ""
    }
   },
   "outputs": [],
   "source": [
    "df_inventory_status.explain()"
   ]
  },
  {
   "cell_type": "code",
   "execution_count": 0,
   "metadata": {
    "application/vnd.databricks.v1+cell": {
     "cellMetadata": {
      "byteLimit": 2048000,
      "rowLimit": 10000
     },
     "inputWidgets": {},
     "nuid": "22f66e00-fca6-4d62-9f74-55424d2ce3a5",
     "showTitle": false,
     "tableResultSettingsMap": {},
     "title": ""
    }
   },
   "outputs": [],
   "source": [
    "df_inventory_status.explain()"
   ]
  },
  {
   "cell_type": "code",
   "execution_count": 0,
   "metadata": {
    "application/vnd.databricks.v1+cell": {
     "cellMetadata": {
      "byteLimit": 2048000,
      "rowLimit": 10000
     },
     "inputWidgets": {},
     "nuid": "62816ee0-b253-44f0-9bc9-2e26e6151ef7",
     "showTitle": false,
     "tableResultSettingsMap": {},
     "title": ""
    }
   },
   "outputs": [],
   "source": [
    "display(df_inventory_status)"
   ]
  },
  {
   "cell_type": "code",
   "execution_count": 0,
   "metadata": {
    "application/vnd.databricks.v1+cell": {
     "cellMetadata": {
      "byteLimit": 2048000,
      "rowLimit": 10000
     },
     "inputWidgets": {},
     "nuid": "910990d6-0b3c-462b-a1bb-8254317cad4f",
     "showTitle": false,
     "tableResultSettingsMap": {},
     "title": ""
    }
   },
   "outputs": [],
   "source": [
    "display(df_inventory_status)"
   ]
  }
 ],
 "metadata": {
  "application/vnd.databricks.v1+notebook": {
   "computePreferences": null,
   "dashboards": [],
   "environmentMetadata": {
    "base_environment": "",
    "environment_version": "2"
   },
   "inputWidgetPreferences": null,
   "language": "python",
   "notebookMetadata": {
    "pythonIndentUnit": 4
   },
   "notebookName": "Cache and persist",
   "widgets": {}
  },
  "language_info": {
   "name": "python"
  }
 },
 "nbformat": 4,
 "nbformat_minor": 0
}
